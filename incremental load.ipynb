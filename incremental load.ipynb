{
 "cells": [
  {
   "cell_type": "code",
   "execution_count": 1,
   "id": "60f91578",
   "metadata": {},
   "outputs": [],
   "source": [
    "import pandas as pd\n",
    "import numpy as np\n",
    "import mysql.connector\n",
    "from datetime import datetime, timedelta"
   ]
  },
  {
   "cell_type": "code",
   "execution_count": 2,
   "id": "dfbe660e",
   "metadata": {},
   "outputs": [],
   "source": [
    "from faker import Faker\n",
    "fake = Faker('en_IN')"
   ]
  },
  {
   "cell_type": "code",
   "execution_count": 3,
   "id": "94960ce5",
   "metadata": {},
   "outputs": [
    {
     "name": "stderr",
     "output_type": "stream",
     "text": [
      "C:\\Users\\sukanya.sahay\\AppData\\Local\\Temp\\ipykernel_2292\\415947101.py:5: SADeprecationWarning: Calling URL() directly is deprecated and will be disabled in a future release.  The public constructor for URL is now the URL.create() method.\n",
      "  sqlalchemy.engine.url.URL(\n"
     ]
    }
   ],
   "source": [
    "import sqlalchemy, pymysql\n",
    "from sqlalchemy.dialects import mysql\n",
    "import pandas as pd\n",
    "db = sqlalchemy.create_engine(\n",
    "     sqlalchemy.engine.url.URL(\n",
    "          drivername='mysql+pymysql',\n",
    "          username='root',\n",
    "          password=\"123456\",\n",
    "          host='34.75.22.238',\n",
    "          database=\"sukyanya\"\n",
    "     )\n",
    ")"
   ]
  },
  {
   "cell_type": "code",
   "execution_count": 4,
   "id": "a6823527",
   "metadata": {},
   "outputs": [],
   "source": [
    "qry1='select max(customerid) as maxcustid from CUSTOMER_MASTER;'\n",
    "maxcustid= pd.read_sql(qry1,con=db)\n",
    "maxcustid=maxcustid.iat[0,0]"
   ]
  },
  {
   "cell_type": "code",
   "execution_count": 5,
   "id": "14812632",
   "metadata": {},
   "outputs": [],
   "source": [
    "qry2='select max(Productid) from PRODUCT_MASTER;'\n",
    "maxprodid= pd.read_sql(qry2,con=db)\n",
    "maxprodid=maxprodid.iat[0,0]"
   ]
  },
  {
   "cell_type": "code",
   "execution_count": 6,
   "id": "9a8d6911",
   "metadata": {},
   "outputs": [
    {
     "name": "stdout",
     "output_type": "stream",
     "text": [
      "20000\n"
     ]
    }
   ],
   "source": [
    "qry3='select max(orderid) from ORDER_DETAILS;'\n",
    "orderid= pd.read_sql(qry3,con=db)\n",
    "orderid=orderid.iat[0,0]\n",
    "print(orderid)"
   ]
  },
  {
   "cell_type": "markdown",
   "id": "0ee7766d",
   "metadata": {},
   "source": [
    "# incremental order details"
   ]
  },
  {
   "cell_type": "code",
   "execution_count": 7,
   "id": "e0db46a5",
   "metadata": {},
   "outputs": [],
   "source": [
    "order_detail_fields = ['orderid', 'customerid', 'order_status_update_timestamp', 'order_status']\n",
    "orders_Received = pd.DataFrame(columns=order_detail_fields, index=range(1, 15001))\n",
    "\n",
    "x=orderid+1\n",
    "j=1\n",
    "for i in range(1, 5001):\n",
    "    f=fake.random_int(min=1, max=maxcustid)\n",
    "    for k in range (j,j+3):\n",
    "        orders_Received['orderid'][k] = x\n",
    "        orders_Received['customerid'][k]=f\n",
    "\n",
    "    orders_Received['order_status_update_timestamp'][j] = fake.date_time_this_year()\n",
    "    orders_Received['order_status'][j] = 'Received'\n",
    "    orders_Received['order_status_update_timestamp'][j+1] = orders_Received['order_status_update_timestamp'][j] + timedelta(seconds=fake.random_int(min=1, max=86400))\n",
    "    orders_Received['order_status'][j+1] = 'In_progress'\n",
    "    orders_Received['order_status_update_timestamp'][j+2] = orders_Received['order_status_update_timestamp'][j+1] + timedelta(seconds=fake.random_int(min=1, max=172800))\n",
    "    orders_Received['order_status'][j+2] = 'Delivered'\n",
    "    j+=3\n",
    "    x+=1"
   ]
  },
  {
   "cell_type": "code",
   "execution_count": 8,
   "id": "c9624a04",
   "metadata": {},
   "outputs": [
    {
     "data": {
      "text/html": [
       "<div>\n",
       "<style scoped>\n",
       "    .dataframe tbody tr th:only-of-type {\n",
       "        vertical-align: middle;\n",
       "    }\n",
       "\n",
       "    .dataframe tbody tr th {\n",
       "        vertical-align: top;\n",
       "    }\n",
       "\n",
       "    .dataframe thead th {\n",
       "        text-align: right;\n",
       "    }\n",
       "</style>\n",
       "<table border=\"1\" class=\"dataframe\">\n",
       "  <thead>\n",
       "    <tr style=\"text-align: right;\">\n",
       "      <th></th>\n",
       "      <th>orderid</th>\n",
       "      <th>customerid</th>\n",
       "      <th>order_status_update_timestamp</th>\n",
       "      <th>order_status</th>\n",
       "    </tr>\n",
       "  </thead>\n",
       "  <tbody>\n",
       "    <tr>\n",
       "      <th>1</th>\n",
       "      <td>20001</td>\n",
       "      <td>770</td>\n",
       "      <td>2022-11-04 05:19:54</td>\n",
       "      <td>Received</td>\n",
       "    </tr>\n",
       "    <tr>\n",
       "      <th>2</th>\n",
       "      <td>20001</td>\n",
       "      <td>770</td>\n",
       "      <td>2022-11-05 02:25:25</td>\n",
       "      <td>In_progress</td>\n",
       "    </tr>\n",
       "    <tr>\n",
       "      <th>3</th>\n",
       "      <td>20001</td>\n",
       "      <td>770</td>\n",
       "      <td>2022-11-05 21:16:05</td>\n",
       "      <td>Delivered</td>\n",
       "    </tr>\n",
       "    <tr>\n",
       "      <th>4</th>\n",
       "      <td>20002</td>\n",
       "      <td>292</td>\n",
       "      <td>2022-08-29 03:57:24</td>\n",
       "      <td>Received</td>\n",
       "    </tr>\n",
       "    <tr>\n",
       "      <th>5</th>\n",
       "      <td>20002</td>\n",
       "      <td>292</td>\n",
       "      <td>2022-08-29 13:05:08</td>\n",
       "      <td>In_progress</td>\n",
       "    </tr>\n",
       "    <tr>\n",
       "      <th>...</th>\n",
       "      <td>...</td>\n",
       "      <td>...</td>\n",
       "      <td>...</td>\n",
       "      <td>...</td>\n",
       "    </tr>\n",
       "    <tr>\n",
       "      <th>14986</th>\n",
       "      <td>24996</td>\n",
       "      <td>432</td>\n",
       "      <td>2022-05-02 17:51:22</td>\n",
       "      <td>Received</td>\n",
       "    </tr>\n",
       "    <tr>\n",
       "      <th>14987</th>\n",
       "      <td>24996</td>\n",
       "      <td>432</td>\n",
       "      <td>2022-05-03 11:42:10</td>\n",
       "      <td>In_progress</td>\n",
       "    </tr>\n",
       "    <tr>\n",
       "      <th>14988</th>\n",
       "      <td>24996</td>\n",
       "      <td>432</td>\n",
       "      <td>2022-05-04 11:21:10</td>\n",
       "      <td>Delivered</td>\n",
       "    </tr>\n",
       "    <tr>\n",
       "      <th>14989</th>\n",
       "      <td>24997</td>\n",
       "      <td>295</td>\n",
       "      <td>2022-05-10 23:32:07</td>\n",
       "      <td>Received</td>\n",
       "    </tr>\n",
       "    <tr>\n",
       "      <th>14990</th>\n",
       "      <td>24997</td>\n",
       "      <td>295</td>\n",
       "      <td>2022-05-11 15:28:13</td>\n",
       "      <td>In_progress</td>\n",
       "    </tr>\n",
       "  </tbody>\n",
       "</table>\n",
       "<p>14990 rows × 4 columns</p>\n",
       "</div>"
      ],
      "text/plain": [
       "      orderid customerid order_status_update_timestamp order_status\n",
       "1       20001        770           2022-11-04 05:19:54     Received\n",
       "2       20001        770           2022-11-05 02:25:25  In_progress\n",
       "3       20001        770           2022-11-05 21:16:05    Delivered\n",
       "4       20002        292           2022-08-29 03:57:24     Received\n",
       "5       20002        292           2022-08-29 13:05:08  In_progress\n",
       "...       ...        ...                           ...          ...\n",
       "14986   24996        432           2022-05-02 17:51:22     Received\n",
       "14987   24996        432           2022-05-03 11:42:10  In_progress\n",
       "14988   24996        432           2022-05-04 11:21:10    Delivered\n",
       "14989   24997        295           2022-05-10 23:32:07     Received\n",
       "14990   24997        295           2022-05-11 15:28:13  In_progress\n",
       "\n",
       "[14990 rows x 4 columns]"
      ]
     },
     "execution_count": 8,
     "metadata": {},
     "output_type": "execute_result"
    }
   ],
   "source": [
    "orders_Received.head(-10)"
   ]
  },
  {
   "cell_type": "markdown",
   "id": "f951b4d7",
   "metadata": {},
   "source": [
    "## loading"
   ]
  },
  {
   "cell_type": "code",
   "execution_count": 9,
   "id": "ea48b299",
   "metadata": {},
   "outputs": [
    {
     "data": {
      "text/plain": [
       "15000"
      ]
     },
     "execution_count": 9,
     "metadata": {},
     "output_type": "execute_result"
    }
   ],
   "source": [
    "orders_Received.to_sql('ORDER_DETAILS', con=db, if_exists='append',index=False)"
   ]
  },
  {
   "cell_type": "code",
   "execution_count": null,
   "id": "b91d2aae",
   "metadata": {},
   "outputs": [],
   "source": []
  },
  {
   "cell_type": "markdown",
   "id": "05e26e0d",
   "metadata": {},
   "source": [
    "# incremental order items"
   ]
  },
  {
   "cell_type": "code",
   "execution_count": 10,
   "id": "c58e8115",
   "metadata": {},
   "outputs": [],
   "source": [
    "order_item_fields = ['orderid','productid','quantity']"
   ]
  },
  {
   "cell_type": "code",
   "execution_count": 11,
   "id": "5d645a49",
   "metadata": {},
   "outputs": [],
   "source": [
    "order_items = pd.DataFrame(columns=order_item_fields, index = range(1,5001))"
   ]
  },
  {
   "cell_type": "code",
   "execution_count": 12,
   "id": "5ac8879a",
   "metadata": {},
   "outputs": [],
   "source": [
    "for i in range(1,5001):\n",
    "    order_items['orderid'][i]=fake.random_element(orders_Received['orderid'])\n",
    "    order_items['productid'][i]=fake.random_int(min=1, max=maxprodid)\n",
    "    order_items['quantity'][i]=fake.random_int(min=1, max=20)"
   ]
  },
  {
   "cell_type": "code",
   "execution_count": 13,
   "id": "cd00c0ec",
   "metadata": {},
   "outputs": [],
   "source": [
    "order_items = order_items.drop_duplicates(subset=['orderid', 'productid'],keep='first')"
   ]
  },
  {
   "cell_type": "code",
   "execution_count": 14,
   "id": "aca55868",
   "metadata": {},
   "outputs": [
    {
     "data": {
      "text/html": [
       "<div>\n",
       "<style scoped>\n",
       "    .dataframe tbody tr th:only-of-type {\n",
       "        vertical-align: middle;\n",
       "    }\n",
       "\n",
       "    .dataframe tbody tr th {\n",
       "        vertical-align: top;\n",
       "    }\n",
       "\n",
       "    .dataframe thead th {\n",
       "        text-align: right;\n",
       "    }\n",
       "</style>\n",
       "<table border=\"1\" class=\"dataframe\">\n",
       "  <thead>\n",
       "    <tr style=\"text-align: right;\">\n",
       "      <th></th>\n",
       "      <th>orderid</th>\n",
       "      <th>productid</th>\n",
       "      <th>quantity</th>\n",
       "    </tr>\n",
       "  </thead>\n",
       "  <tbody>\n",
       "    <tr>\n",
       "      <th>1</th>\n",
       "      <td>21009</td>\n",
       "      <td>86</td>\n",
       "      <td>15</td>\n",
       "    </tr>\n",
       "    <tr>\n",
       "      <th>2</th>\n",
       "      <td>24042</td>\n",
       "      <td>72</td>\n",
       "      <td>18</td>\n",
       "    </tr>\n",
       "    <tr>\n",
       "      <th>3</th>\n",
       "      <td>20185</td>\n",
       "      <td>49</td>\n",
       "      <td>13</td>\n",
       "    </tr>\n",
       "    <tr>\n",
       "      <th>4</th>\n",
       "      <td>22702</td>\n",
       "      <td>81</td>\n",
       "      <td>14</td>\n",
       "    </tr>\n",
       "    <tr>\n",
       "      <th>5</th>\n",
       "      <td>24677</td>\n",
       "      <td>96</td>\n",
       "      <td>6</td>\n",
       "    </tr>\n",
       "    <tr>\n",
       "      <th>...</th>\n",
       "      <td>...</td>\n",
       "      <td>...</td>\n",
       "      <td>...</td>\n",
       "    </tr>\n",
       "    <tr>\n",
       "      <th>4986</th>\n",
       "      <td>20725</td>\n",
       "      <td>73</td>\n",
       "      <td>8</td>\n",
       "    </tr>\n",
       "    <tr>\n",
       "      <th>4987</th>\n",
       "      <td>23024</td>\n",
       "      <td>50</td>\n",
       "      <td>12</td>\n",
       "    </tr>\n",
       "    <tr>\n",
       "      <th>4988</th>\n",
       "      <td>21971</td>\n",
       "      <td>50</td>\n",
       "      <td>13</td>\n",
       "    </tr>\n",
       "    <tr>\n",
       "      <th>4989</th>\n",
       "      <td>20672</td>\n",
       "      <td>3</td>\n",
       "      <td>15</td>\n",
       "    </tr>\n",
       "    <tr>\n",
       "      <th>4990</th>\n",
       "      <td>24967</td>\n",
       "      <td>70</td>\n",
       "      <td>2</td>\n",
       "    </tr>\n",
       "  </tbody>\n",
       "</table>\n",
       "<p>4969 rows × 3 columns</p>\n",
       "</div>"
      ],
      "text/plain": [
       "     orderid productid quantity\n",
       "1      21009        86       15\n",
       "2      24042        72       18\n",
       "3      20185        49       13\n",
       "4      22702        81       14\n",
       "5      24677        96        6\n",
       "...      ...       ...      ...\n",
       "4986   20725        73        8\n",
       "4987   23024        50       12\n",
       "4988   21971        50       13\n",
       "4989   20672         3       15\n",
       "4990   24967        70        2\n",
       "\n",
       "[4969 rows x 3 columns]"
      ]
     },
     "execution_count": 14,
     "metadata": {},
     "output_type": "execute_result"
    }
   ],
   "source": [
    "order_items.head(-10)"
   ]
  },
  {
   "cell_type": "markdown",
   "id": "d1d75eaa",
   "metadata": {},
   "source": [
    "## loading"
   ]
  },
  {
   "cell_type": "code",
   "execution_count": 15,
   "id": "77335e22",
   "metadata": {},
   "outputs": [
    {
     "data": {
      "text/plain": [
       "4979"
      ]
     },
     "execution_count": 15,
     "metadata": {},
     "output_type": "execute_result"
    }
   ],
   "source": [
    "order_items.to_sql('ORDER_ITEMS', con=db, if_exists='append',index=False)"
   ]
  },
  {
   "cell_type": "code",
   "execution_count": null,
   "id": "85126c5b",
   "metadata": {},
   "outputs": [],
   "source": []
  },
  {
   "cell_type": "code",
   "execution_count": null,
   "id": "fb318fe8",
   "metadata": {},
   "outputs": [],
   "source": []
  },
  {
   "cell_type": "code",
   "execution_count": null,
   "id": "dd886f5b",
   "metadata": {},
   "outputs": [],
   "source": []
  },
  {
   "cell_type": "code",
   "execution_count": null,
   "id": "3a6b5f31",
   "metadata": {},
   "outputs": [],
   "source": []
  },
  {
   "cell_type": "code",
   "execution_count": null,
   "id": "fd223cab",
   "metadata": {},
   "outputs": [],
   "source": []
  },
  {
   "cell_type": "code",
   "execution_count": null,
   "id": "1e08dd41",
   "metadata": {},
   "outputs": [],
   "source": []
  },
  {
   "cell_type": "code",
   "execution_count": null,
   "id": "a0c90991",
   "metadata": {},
   "outputs": [],
   "source": []
  },
  {
   "cell_type": "code",
   "execution_count": null,
   "id": "bd52b8fa",
   "metadata": {},
   "outputs": [],
   "source": []
  }
 ],
 "metadata": {
  "kernelspec": {
   "display_name": "Python 3 (ipykernel)",
   "language": "python",
   "name": "python3"
  },
  "language_info": {
   "codemirror_mode": {
    "name": "ipython",
    "version": 3
   },
   "file_extension": ".py",
   "mimetype": "text/x-python",
   "name": "python",
   "nbconvert_exporter": "python",
   "pygments_lexer": "ipython3",
   "version": "3.9.13"
  }
 },
 "nbformat": 4,
 "nbformat_minor": 5
}
